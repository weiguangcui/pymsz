{
 "cells": [
  {
   "cell_type": "code",
   "execution_count": 1,
   "metadata": {
    "ExecuteTime": {
     "end_time": "2019-04-13T20:32:13.178541Z",
     "start_time": "2019-04-13T20:32:12.868316Z"
    }
   },
   "outputs": [],
   "source": [
    "import matplotlib\n",
    "%matplotlib inline\n",
    "from pylab import *\n",
    "import os, h5py\n",
    "from readsnapsgl import readsnap\n",
    "import pymsz\n",
    "\n",
    "matplotlib.rcParams['xtick.labelsize'] = 16\n",
    "matplotlib.rcParams['ytick.labelsize'] = 16\n",
    "\n",
    "safecolor={ 'silver':'#c0c0c0', 'gray':'#808080', 'black':'#000000', 'red':'#ff0000',\n",
    "    'maroon':'#800000', 'yellow':'#ffff00', 'olive':'#707030', 'lime':'#00ee00',\n",
    "    'green':'#009000', 'aqua':'#00eeee', 'teal':'#00a0a0', 'blue':'#0000ff',\n",
    "    'nave':'#000080', 'fuchsia':'#ff00ff', 'purple':'#900090'}"
   ]
  },
  {
   "cell_type": "code",
   "execution_count": 3,
   "metadata": {
    "ExecuteTime": {
     "end_time": "2019-04-13T20:32:14.328233Z",
     "start_time": "2019-04-13T20:32:14.290701Z"
    }
   },
   "outputs": [],
   "source": [
    "# The example cluster is from the 300 project run with GIZMO-Simba\n",
    "# cluster center and R200 from AHF halo catalogue\n",
    "sf = h5py.File('snap_CL288.hdf5','r')\n",
    "cc = np.asarray([  500095.89011853, 500286.04465527,  500481.30095660])\n",
    "rr = 1446.17"
   ]
  },
  {
   "cell_type": "code",
   "execution_count": 4,
   "metadata": {
    "ExecuteTime": {
     "end_time": "2019-04-13T20:32:15.819726Z",
     "start_time": "2019-04-13T20:32:15.780048Z"
    }
   },
   "outputs": [
    {
     "data": {
      "text/plain": [
       "<KeysViewHDF5 ['Header', 'PartType0', 'PartType1', 'PartType2', 'PartType3', 'PartType4', 'PartType5']>"
      ]
     },
     "execution_count": 4,
     "metadata": {},
     "output_type": "execute_result"
    }
   ],
   "source": [
    "sf.keys()"
   ]
  },
  {
   "cell_type": "code",
   "execution_count": 5,
   "metadata": {
    "ExecuteTime": {
     "end_time": "2019-04-15T09:13:05.268328Z",
     "start_time": "2019-04-15T09:13:05.250548Z"
    },
    "scrolled": false
   },
   "outputs": [
    {
     "data": {
      "text/plain": [
       "[('BoxSize', 1000000.0),\n",
       " ('Flag_Cooling', 1),\n",
       " ('Flag_DoublePrecision', 0),\n",
       " ('Flag_Feedback', 1),\n",
       " ('Flag_IC_Info', 3),\n",
       " ('Flag_Metals', 11),\n",
       " ('Flag_Sfr', 1),\n",
       " ('Flag_StellarAge', 1),\n",
       " ('HubbleParam', 0.6777),\n",
       " ('MassTable', array([0., 0., 0., 0., 0., 0.])),\n",
       " ('NumFilesPerSnapshot', 1),\n",
       " ('NumPart_ThisFile',\n",
       "  array([386109, 468906,      0,      0,  53544,    929], dtype=uint32)),\n",
       " ('NumPart_Total',\n",
       "  array([386109, 468906,      0,      0,  53544,    929], dtype=uint32)),\n",
       " ('NumPart_Total_HighWord', array([0, 0, 0, 0, 0, 0], dtype=uint32)),\n",
       " ('Omega0', 0.307115),\n",
       " ('OmegaLambda', 0.692885),\n",
       " ('Redshift', -2.220446049250313e-16),\n",
       " ('Time', 1.0000000000000002)]"
      ]
     },
     "execution_count": 5,
     "metadata": {},
     "output_type": "execute_result"
    }
   ],
   "source": [
    "list(sf['Header'].attrs.items())"
   ]
  },
  {
   "cell_type": "markdown",
   "metadata": {},
   "source": [
    "# load snapshot to pymsz"
   ]
  },
  {
   "cell_type": "code",
   "execution_count": 6,
   "metadata": {},
   "outputs": [
    {
     "name": "stdout",
     "output_type": "stream",
     "text": [
      "reading files:  ['snap_CL288.hdf5']\n",
      "Reading snap_CL288.hdf5 file with Header\n"
     ]
    }
   ],
   "source": [
    "simd = pymsz.load_data('snap_CL288.hdf5', snapshot=True, center=cc, radius=rr, cut_sfr=0.1, restrict_r=False)"
   ]
  },
  {
   "cell_type": "markdown",
   "metadata": {},
   "source": [
    "# model preparation"
   ]
  },
  {
   "cell_type": "code",
   "execution_count": 7,
   "metadata": {},
   "outputs": [
    {
     "name": "stdout",
     "output_type": "stream",
     "text": [
      "Convert the neighbor count in pixel size:  2.3239046245134736\n",
      "Init smoothing, RAM=0.2891 GB\n",
      "After cKDTree , RAM=0.295 GB\n",
      "Directly pass the cKDTree to tasks with Python version 3.8.10 (default, Mar 13 2023, 10:26:41) \n",
      "[GCC 9.4.0]\n"
     ]
    }
   ],
   "source": [
    "angular= 75 # in argsec\n",
    "pj = pymsz.TT_model(simd, npixel='AUTO', axis='z', neighbours=64, redshift=0.1, \n",
    "                    AR=angular,Ncpu=1,sph_kernel='cubic',Memreduce=True)"
   ]
  },
  {
   "cell_type": "markdown",
   "metadata": {},
   "source": [
    "# output the sz-y maps"
   ]
  },
  {
   "cell_type": "code",
   "execution_count": 9,
   "metadata": {},
   "outputs": [],
   "source": [
    "pj.write_fits_image(\"SZ-z.fits\", overwrite=True, \n",
    "                    comments=\"Simulation redshift: 0.1\") "
   ]
  },
  {
   "cell_type": "code",
   "execution_count": 10,
   "metadata": {},
   "outputs": [],
   "source": [
    "from astropy.io import fits"
   ]
  },
  {
   "cell_type": "code",
   "execution_count": 20,
   "metadata": {},
   "outputs": [],
   "source": [
    "szyf=fits.open('SZ-z.fits',ignore_missing_simple=True)"
   ]
  },
  {
   "cell_type": "code",
   "execution_count": 21,
   "metadata": {},
   "outputs": [
    {
     "name": "stdout",
     "output_type": "stream",
     "text": [
      "Filename: SZ-z.fits\n",
      "No.    Name      Ver    Type      Cards   Dimensions   Format\n",
      "  0  PRIMARY       1 PrimaryHDU      32   (30, 30)   float64   \n"
     ]
    }
   ],
   "source": [
    "szyf.info()"
   ]
  },
  {
   "cell_type": "code",
   "execution_count": 24,
   "metadata": {},
   "outputs": [
    {
     "data": {
      "text/plain": [
       "<matplotlib.colorbar.Colorbar at 0x7f751da69c40>"
      ]
     },
     "execution_count": 24,
     "metadata": {},
     "output_type": "execute_result"
    },
    {
     "data": {
      "image/png": "[encoded data removed]",
      "text/plain": [
       "<Figure size 432x288 with 2 Axes>"
      ]
     },
     "metadata": {
      "needs_background": "light"
     },
     "output_type": "display_data"
    }
   ],
   "source": [
    "imshow(szyf[0].data)\n",
    "colorbar()"
   ]
  },
  {
   "cell_type": "code",
   "execution_count": null,
   "metadata": {},
   "outputs": [],
   "source": []
  }
 ],
 "metadata": {
  "hide_input": false,
  "kernelspec": {
   "display_name": "Python 3 (ipykernel)",
   "language": "python",
   "name": "python3"
  },
  "language_info": {
   "codemirror_mode": {
    "name": "ipython",
    "version": 3
   },
   "file_extension": ".py",
   "mimetype": "text/x-python",
   "name": "python",
   "nbconvert_exporter": "python",
   "pygments_lexer": "ipython3",
   "version": "3.8.10"
  }
 },
 "nbformat": 4,
 "nbformat_minor": 2
}
